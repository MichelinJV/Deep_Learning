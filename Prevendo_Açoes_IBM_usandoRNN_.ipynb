{
  "nbformat": 4,
  "nbformat_minor": 0,
  "metadata": {
    "colab": {
      "name": "Prevendo_Açoes IBM_usandoRNN .ipynb",
      "provenance": [],
      "collapsed_sections": [
        "_f89F30JNAz_",
        "ffa3WqSDO3Mp",
        "3kVutCoLP087"
      ]
    },
    "kernelspec": {
      "name": "python3",
      "display_name": "Python 3"
    },
    "language_info": {
      "name": "python"
    }
  },
  "cells": [
    {
      "cell_type": "markdown",
      "metadata": {
        "id": "Z2KnxPcZMsaZ"
      },
      "source": [
        "# **Prevendo os Preços das Ações da IBM - Usando RNN**\n",
        "\n"
      ]
    },
    {
      "cell_type": "markdown",
      "metadata": {
        "id": "_f89F30JNAz_"
      },
      "source": [
        "## Introdução\n",
        "\n",
        "O mercado de ações está em evidência, e há cada vez mais investidores interessados nele. Uma ação representa a menor parcela do capital de uma empresa. Quem compra ações de uma companhia adquire também os direitos — e os deveres — de um sócio.\n",
        "\n",
        "Uma das principais vantagens de se tornar acionista de uma empresa é poder se beneficiar de parte dos resultados que ela obtiver. Quando uma companhia aberta tem lucro, uma parcela dele é distribuída aos sócios na forma de dividendos, na proporção do número de ações que cada um possuir.\n",
        "\n",
        "Os dados do mercado de ações são interessantes de analisar e, como um incentivo adicional, modelos preditivos fortes podem ter grande retorno financeiro. \n",
        "\n",
        "Podemos criar um modelo preditivo usando Redes Neurais Recorrentes (Recurrent Neural Networks - RNN). Em uma rede neural recorrente, armazenamos as ativações de saída de uma ou mais camadas da rede.  Então, da próxima vez que fornecermos um dados de entrada à rede, incluiremos as saídas armazenadas anteriormente como entradas adicionais."
      ]
    },
    {
      "cell_type": "markdown",
      "metadata": {
        "id": "ffa3WqSDO3Mp"
      },
      "source": [
        "## Objetivo\n",
        "\n",
        "Desenvolver um modelo de RNN que possa prever as altas dos preçoss do mercado e permitir que você faça negociações informadas estatisticamente."
      ]
    },
    {
      "cell_type": "markdown",
      "metadata": {
        "id": "3kVutCoLP087"
      },
      "source": [
        "## Dataset\n",
        "\n",
        "O dataset contém 13 anos de dados (2006 a 2018) de estoque da empresa IBM. As colunas do arquivo são:\n",
        "\n",
        "* Open - preço da ação na abertura do mercado (estes são os dados da NYSE, então tudo em dólar americano)\n",
        "\n",
        "* High - preço mais alto alcançado no dia\n",
        "\n",
        "* Low Close - Menor preço alcançado no dia\n",
        "\n",
        "* Volume - Número de ações negociadas\n",
        "\n",
        "* Name - o nome do ticker da ação (Consiste em uma forma de abreviar o nome de uma ação para facilitar as negociações e a identificação.)\n",
        "\n",
        "Link do dataset: <a href=\"https://www.kaggle.com/szrlee/stock-time-series-20050101-to-20171231\" target=\"_blanc\">DJIA 30 Stock Time Series<a/>"
      ]
    },
    {
      "cell_type": "markdown",
      "metadata": {
        "id": "q5aVdBp-RTrv"
      },
      "source": [
        "## 1. Importando as Bibliotecas e os Dados"
      ]
    },
    {
      "cell_type": "code",
      "metadata": {
        "id": "5iY_1BhsyE_T"
      },
      "source": [
        "import pandas as pd\n",
        "import numpy as np\n",
        "import matplotlib.pyplot as plt\n",
        "plt.style.use('fivethirtyeight')\n",
        "\n",
        "import math\n",
        "from sklearn.metrics import mean_squared_error\n",
        "from sklearn.preprocessing import MinMaxScaler\n",
        "\n",
        "from keras.models import Sequential\n",
        "from keras.layers import Dense, LSTM, Dropout, GRU, Bidirectional\n",
        "from keras.optimizers import SGD"
      ],
      "execution_count": 1,
      "outputs": []
    },
    {
      "cell_type": "code",
      "metadata": {
        "colab": {
          "base_uri": "https://localhost:8080/",
          "height": 228
        },
        "id": "Z4_jnHoGzJnB",
        "outputId": "e25b2d14-3253-4f65-93d8-2dfdea200b29"
      },
      "source": [
        "dataset = pd.read_csv('./IBM_2006-01-01_to_2018-01-01.csv',index_col='Date', parse_dates=['Date'])\n",
        "dataset.head()"
      ],
      "execution_count": 3,
      "outputs": [
        {
          "output_type": "execute_result",
          "data": {
            "text/html": [
              "<div>\n",
              "<style scoped>\n",
              "    .dataframe tbody tr th:only-of-type {\n",
              "        vertical-align: middle;\n",
              "    }\n",
              "\n",
              "    .dataframe tbody tr th {\n",
              "        vertical-align: top;\n",
              "    }\n",
              "\n",
              "    .dataframe thead th {\n",
              "        text-align: right;\n",
              "    }\n",
              "</style>\n",
              "<table border=\"1\" class=\"dataframe\">\n",
              "  <thead>\n",
              "    <tr style=\"text-align: right;\">\n",
              "      <th></th>\n",
              "      <th>Open</th>\n",
              "      <th>High</th>\n",
              "      <th>Low</th>\n",
              "      <th>Close</th>\n",
              "      <th>Volume</th>\n",
              "      <th>Name</th>\n",
              "    </tr>\n",
              "    <tr>\n",
              "      <th>Date</th>\n",
              "      <th></th>\n",
              "      <th></th>\n",
              "      <th></th>\n",
              "      <th></th>\n",
              "      <th></th>\n",
              "      <th></th>\n",
              "    </tr>\n",
              "  </thead>\n",
              "  <tbody>\n",
              "    <tr>\n",
              "      <th>2006-01-03</th>\n",
              "      <td>82.45</td>\n",
              "      <td>82.55</td>\n",
              "      <td>80.81</td>\n",
              "      <td>82.06</td>\n",
              "      <td>11715200</td>\n",
              "      <td>IBM</td>\n",
              "    </tr>\n",
              "    <tr>\n",
              "      <th>2006-01-04</th>\n",
              "      <td>82.20</td>\n",
              "      <td>82.50</td>\n",
              "      <td>81.33</td>\n",
              "      <td>81.95</td>\n",
              "      <td>9840600</td>\n",
              "      <td>IBM</td>\n",
              "    </tr>\n",
              "    <tr>\n",
              "      <th>2006-01-05</th>\n",
              "      <td>81.40</td>\n",
              "      <td>82.90</td>\n",
              "      <td>81.00</td>\n",
              "      <td>82.50</td>\n",
              "      <td>7213500</td>\n",
              "      <td>IBM</td>\n",
              "    </tr>\n",
              "    <tr>\n",
              "      <th>2006-01-06</th>\n",
              "      <td>83.95</td>\n",
              "      <td>85.03</td>\n",
              "      <td>83.41</td>\n",
              "      <td>84.95</td>\n",
              "      <td>8197400</td>\n",
              "      <td>IBM</td>\n",
              "    </tr>\n",
              "    <tr>\n",
              "      <th>2006-01-09</th>\n",
              "      <td>84.10</td>\n",
              "      <td>84.25</td>\n",
              "      <td>83.38</td>\n",
              "      <td>83.73</td>\n",
              "      <td>6858200</td>\n",
              "      <td>IBM</td>\n",
              "    </tr>\n",
              "  </tbody>\n",
              "</table>\n",
              "</div>"
            ],
            "text/plain": [
              "             Open   High    Low  Close    Volume Name\n",
              "Date                                                 \n",
              "2006-01-03  82.45  82.55  80.81  82.06  11715200  IBM\n",
              "2006-01-04  82.20  82.50  81.33  81.95   9840600  IBM\n",
              "2006-01-05  81.40  82.90  81.00  82.50   7213500  IBM\n",
              "2006-01-06  83.95  85.03  83.41  84.95   8197400  IBM\n",
              "2006-01-09  84.10  84.25  83.38  83.73   6858200  IBM"
            ]
          },
          "metadata": {
            "tags": []
          },
          "execution_count": 3
        }
      ]
    },
    {
      "cell_type": "markdown",
      "metadata": {
        "id": "pSJWniXxz9hz"
      },
      "source": [
        "## 2. Dividindo os Dados"
      ]
    },
    {
      "cell_type": "markdown",
      "metadata": {
        "id": "cxEUuaUKRc3B"
      },
      "source": [
        "Vamos dividir os dados em conjunto de treino e de teste. Os dados dos anos de 2006 a 2016 serão usados para treinar o modelo, os dados dos anos de 2017 e 2018 serão deixados para testar o modelo."
      ]
    },
    {
      "cell_type": "code",
      "metadata": {
        "id": "uWpAmiGozizW"
      },
      "source": [
        "#treino\n",
        "training_set = dataset[:'2016'].iloc[:,1:2].values\n",
        "\n",
        "#teste\n",
        "test_set = dataset['2017':].iloc[:,1:2].values"
      ],
      "execution_count": 4,
      "outputs": []
    },
    {
      "cell_type": "markdown",
      "metadata": {
        "id": "gxE1Of5CSCrt"
      },
      "source": [
        "Antes de começar a criar os modelos, vamos visualizar os conjuntos de dados. Como queremos prever as altas dos preços, usaremos a coluna 'High'."
      ]
    },
    {
      "cell_type": "code",
      "metadata": {
        "colab": {
          "base_uri": "https://localhost:8080/",
          "height": 286
        },
        "id": "UujPVMByzrxV",
        "outputId": "fd8b8115-b787-4a0d-8c54-435e98db3d72"
      },
      "source": [
        "plt.figure(figsize=(10,9))\n",
        "dataset[\"High\"][:'2016'].plot(figsize=(16,4),legend=True)\n",
        "dataset[\"High\"]['2017':].plot(figsize=(16,4),legend=True)\n",
        "plt.legend(['Conjunto de Treino (2006 até 2017)','Conjunto de Teste (2017 e 2018)'])\n",
        "plt.title('Preço de Estoque da IBM')\n",
        "plt.xlabel(\"Ano\")\n",
        "plt.ylabel(\"Alta dos Preços\")\n",
        "plt.show()"
      ],
      "execution_count": 19,
      "outputs": [
        {
          "output_type": "display_data",
          "data": {
            "image/png": "[encoded data removed]",
            "text/plain": [
              "<Figure size 1152x288 with 1 Axes>"
            ]
          },
          "metadata": {
            "tags": [],
            "needs_background": "light"
          }
        }
      ]
    },
    {
      "cell_type": "markdown",
      "metadata": {
        "id": "CG2BPZB2SqZm"
      },
      "source": [
        "Do gráfico acima vemos claramente a divisão entre os preços de treino (azul) e de teste (laranja). Nosso objetivo é criar modelos que consigam reproduzir (prever) esses dados de treino."
      ]
    },
    {
      "cell_type": "markdown",
      "metadata": {
        "id": "S3gI-1hZ0Iy6"
      },
      "source": [
        "## 3. Preprocessando os dados"
      ]
    },
    {
      "cell_type": "markdown",
      "metadata": {
        "id": "mLA2cTKxTlF3"
      },
      "source": [
        "Temos que preprocessar os dados para melhorar a eficiência do modelo. Começamos padronizando os dados, deixando-os em valores variando entre mínimo de 0 e máximo 1."
      ]
    },
    {
      "cell_type": "code",
      "metadata": {
        "id": "h_FiJLLt0SFk"
      },
      "source": [
        "# padroniza os dados\n",
        "sc = MinMaxScaler(feature_range=(0,1))\n",
        "training_set_scaled = sc.fit_transform(training_set)"
      ],
      "execution_count": 6,
      "outputs": []
    },
    {
      "cell_type": "markdown",
      "metadata": {
        "id": "W_O3yCLA0lOg"
      },
      "source": [
        "Como os modelos usam daods anteriores como entrada, criamos uma estrutura de dados com 60 passos de tempo e 1 saída. Portanto, para cada elemento do conjunto de treinamento, temos 60 elementos do conjunto de treinamento anterior."
      ]
    },
    {
      "cell_type": "code",
      "metadata": {
        "id": "cVjUDcJF0W7i"
      },
      "source": [
        "# cria listas para salvar os elementos do conjunto\n",
        "X_train = []\n",
        "y_train = []\n",
        "\n",
        "#pega os elementos \"i\" e os 60 anteriores \"i-60\"\n",
        "for i in range(60,2769):\n",
        "    X_train.append(training_set_scaled[i-60:i,0])\n",
        "    y_train.append(training_set_scaled[i,0])\n",
        "\n",
        "# transforma as listas em vetores do tipo numpy\n",
        "X_train, y_train = np.array(X_train), np.array(y_train)"
      ],
      "execution_count": 7,
      "outputs": []
    },
    {
      "cell_type": "code",
      "metadata": {
        "id": "M7YOnZwS0pg5"
      },
      "source": [
        "# reescala o formato dos tensores adicionando uma dimensão a mais\n",
        "X_train = np.reshape(X_train, (X_train.shape[0],X_train.shape[1],1))"
      ],
      "execution_count": 8,
      "outputs": []
    },
    {
      "cell_type": "markdown",
      "metadata": {
        "id": "gYji98Bp0uiI"
      },
      "source": [
        "## 4. Modelo1: LTSM"
      ]
    },
    {
      "cell_type": "markdown",
      "metadata": {
        "id": "8cRbullFV2i8"
      },
      "source": [
        "Memória longa de curto prazo (Long short-term memory - LSTM) são unidades de construção para camadas de RNN. Uma unidade LSTM comum é composta por uma célula, um portão de entrada, um portão de saída e um portão de esquecimento. A célula é responsável por \"lembrar\" valores em intervalos de tempo arbitrários; daí a palavra \"memória\" em LSTM. Intuitivamente, podem ser pensados ​​como reguladores do fluxo de valores que passa pelas conexões do LSTM; daí a denotação \"portão\". Existem conexões entre esses portões e a célula.\n",
        "\n",
        "A expressão memória longa de curto prazo refere-se ao fato de que o LSTM é um modelo para a memória de curto prazo que pode perdurar por um longo período de tempo. Podemos agora criar o modelo de rede neural."
      ]
    },
    {
      "cell_type": "code",
      "metadata": {
        "colab": {
          "base_uri": "https://localhost:8080/"
        },
        "id": "xb-mzGpX03ZY",
        "outputId": "058f93a3-3f5e-45f5-ab5d-16fce91b2008"
      },
      "source": [
        "# arquitetura o modelo\n",
        "regressor = Sequential()\n",
        "# camada de entrada\n",
        "regressor.add(LSTM(units=50, return_sequences=True, input_shape=(X_train.shape[1],1)))\n",
        "regressor.add(Dropout(0.2))\n",
        "# 1° camada LSTM\n",
        "regressor.add(LSTM(units=50, return_sequences=True))\n",
        "regressor.add(Dropout(0.2))\n",
        "# 2° camada LSTM \n",
        "regressor.add(LSTM(units=50, return_sequences=True))\n",
        "regressor.add(Dropout(0.2))\n",
        "# 3° camada LSTM \n",
        "regressor.add(LSTM(units=50))\n",
        "regressor.add(Dropout(0.2))\n",
        "# camada de saída\n",
        "regressor.add(Dense(units=1))\n",
        "\n",
        "# imprime a arquitetura do modelo\n",
        "regressor.summary()\n"
      ],
      "execution_count": 9,
      "outputs": [
        {
          "output_type": "stream",
          "text": [
            "Model: \"sequential\"\n",
            "_________________________________________________________________\n",
            "Layer (type)                 Output Shape              Param #   \n",
            "=================================================================\n",
            "lstm (LSTM)                  (None, 60, 50)            10400     \n",
            "_________________________________________________________________\n",
            "dropout (Dropout)            (None, 60, 50)            0         \n",
            "_________________________________________________________________\n",
            "lstm_1 (LSTM)                (None, 60, 50)            20200     \n",
            "_________________________________________________________________\n",
            "dropout_1 (Dropout)          (None, 60, 50)            0         \n",
            "_________________________________________________________________\n",
            "lstm_2 (LSTM)                (None, 60, 50)            20200     \n",
            "_________________________________________________________________\n",
            "dropout_2 (Dropout)          (None, 60, 50)            0         \n",
            "_________________________________________________________________\n",
            "lstm_3 (LSTM)                (None, 50)                20200     \n",
            "_________________________________________________________________\n",
            "dropout_3 (Dropout)          (None, 50)                0         \n",
            "_________________________________________________________________\n",
            "dense (Dense)                (None, 1)                 51        \n",
            "=================================================================\n",
            "Total params: 71,051\n",
            "Trainable params: 71,051\n",
            "Non-trainable params: 0\n",
            "_________________________________________________________________\n"
          ],
          "name": "stdout"
        }
      ]
    },
    {
      "cell_type": "code",
      "metadata": {
        "colab": {
          "base_uri": "https://localhost:8080/"
        },
        "id": "FPPEzj3o1Bq_",
        "outputId": "219edc52-07fe-405c-cb5a-41219b990e71"
      },
      "source": [
        "# Compilando o RNN\n",
        "regressor.compile(optimizer='rmsprop',loss='mean_squared_error')\n",
        "\n",
        "# Ajustando (fitting) o modelo com os dados de treino\n",
        "regressor.fit(X_train,y_train,epochs=50,batch_size=32)"
      ],
      "execution_count": 10,
      "outputs": [
        {
          "output_type": "stream",
          "text": [
            "Epoch 1/50\n",
            "85/85 [==============================] - 33s 120ms/step - loss: 0.0567\n",
            "Epoch 2/50\n",
            "85/85 [==============================] - 20s 231ms/step - loss: 0.0106\n",
            "Epoch 3/50\n",
            "85/85 [==============================] - 12s 144ms/step - loss: 0.0082\n",
            "Epoch 4/50\n",
            "85/85 [==============================] - 10s 116ms/step - loss: 0.0062\n",
            "Epoch 5/50\n",
            "85/85 [==============================] - 10s 117ms/step - loss: 0.0070\n",
            "Epoch 6/50\n",
            "85/85 [==============================] - 10s 116ms/step - loss: 0.0055\n",
            "Epoch 7/50\n",
            "85/85 [==============================] - 10s 116ms/step - loss: 0.0043\n",
            "Epoch 8/50\n",
            "85/85 [==============================] - 10s 116ms/step - loss: 0.0047\n",
            "Epoch 9/50\n",
            "85/85 [==============================] - 10s 116ms/step - loss: 0.0038\n",
            "Epoch 10/50\n",
            "85/85 [==============================] - 10s 115ms/step - loss: 0.0042\n",
            "Epoch 11/50\n",
            "85/85 [==============================] - 10s 116ms/step - loss: 0.0033\n",
            "Epoch 12/50\n",
            "85/85 [==============================] - 10s 122ms/step - loss: 0.0033\n",
            "Epoch 13/50\n",
            "85/85 [==============================] - 10s 116ms/step - loss: 0.0031\n",
            "Epoch 14/50\n",
            "85/85 [==============================] - 11s 130ms/step - loss: 0.0032\n",
            "Epoch 15/50\n",
            "85/85 [==============================] - 10s 116ms/step - loss: 0.0027\n",
            "Epoch 16/50\n",
            "85/85 [==============================] - 10s 117ms/step - loss: 0.0033\n",
            "Epoch 17/50\n",
            "85/85 [==============================] - 10s 114ms/step - loss: 0.0030\n",
            "Epoch 18/50\n",
            "85/85 [==============================] - 10s 114ms/step - loss: 0.0025\n",
            "Epoch 19/50\n",
            "85/85 [==============================] - 10s 116ms/step - loss: 0.0025\n",
            "Epoch 20/50\n",
            "85/85 [==============================] - 10s 116ms/step - loss: 0.0024\n",
            "Epoch 21/50\n",
            "85/85 [==============================] - 10s 115ms/step - loss: 0.0024\n",
            "Epoch 22/50\n",
            "85/85 [==============================] - 10s 115ms/step - loss: 0.0025\n",
            "Epoch 23/50\n",
            "85/85 [==============================] - 10s 114ms/step - loss: 0.0021\n",
            "Epoch 24/50\n",
            "85/85 [==============================] - 10s 115ms/step - loss: 0.0020\n",
            "Epoch 25/50\n",
            "85/85 [==============================] - 10s 116ms/step - loss: 0.0022\n",
            "Epoch 26/50\n",
            "85/85 [==============================] - 10s 117ms/step - loss: 0.0021\n",
            "Epoch 27/50\n",
            "85/85 [==============================] - 10s 115ms/step - loss: 0.0023\n",
            "Epoch 28/50\n",
            "85/85 [==============================] - 10s 116ms/step - loss: 0.0023\n",
            "Epoch 29/50\n",
            "85/85 [==============================] - 10s 116ms/step - loss: 0.0020\n",
            "Epoch 30/50\n",
            "85/85 [==============================] - 10s 117ms/step - loss: 0.0020\n",
            "Epoch 31/50\n",
            "85/85 [==============================] - 10s 117ms/step - loss: 0.0018\n",
            "Epoch 32/50\n",
            "85/85 [==============================] - 10s 117ms/step - loss: 0.0019\n",
            "Epoch 33/50\n",
            "85/85 [==============================] - 10s 117ms/step - loss: 0.0016\n",
            "Epoch 34/50\n",
            "85/85 [==============================] - 10s 117ms/step - loss: 0.0017\n",
            "Epoch 35/50\n",
            "85/85 [==============================] - 10s 116ms/step - loss: 0.0018\n",
            "Epoch 36/50\n",
            "85/85 [==============================] - 10s 116ms/step - loss: 0.0017\n",
            "Epoch 37/50\n",
            "85/85 [==============================] - 10s 117ms/step - loss: 0.0018\n",
            "Epoch 38/50\n",
            "85/85 [==============================] - 10s 117ms/step - loss: 0.0018\n",
            "Epoch 39/50\n",
            "85/85 [==============================] - 10s 116ms/step - loss: 0.0017\n",
            "Epoch 40/50\n",
            "85/85 [==============================] - 10s 117ms/step - loss: 0.0014\n",
            "Epoch 41/50\n",
            "85/85 [==============================] - 10s 118ms/step - loss: 0.0015\n",
            "Epoch 42/50\n",
            "85/85 [==============================] - 10s 116ms/step - loss: 0.0016\n",
            "Epoch 43/50\n",
            "85/85 [==============================] - 10s 116ms/step - loss: 0.0016\n",
            "Epoch 44/50\n",
            "85/85 [==============================] - 10s 117ms/step - loss: 0.0014\n",
            "Epoch 45/50\n",
            "85/85 [==============================] - 10s 118ms/step - loss: 0.0015\n",
            "Epoch 46/50\n",
            "85/85 [==============================] - 10s 116ms/step - loss: 0.0015\n",
            "Epoch 47/50\n",
            "85/85 [==============================] - 12s 140ms/step - loss: 0.0014\n",
            "Epoch 48/50\n",
            "85/85 [==============================] - 10s 116ms/step - loss: 0.0014\n",
            "Epoch 49/50\n",
            "85/85 [==============================] - 10s 116ms/step - loss: 0.0014\n",
            "Epoch 50/50\n",
            "85/85 [==============================] - 10s 116ms/step - loss: 0.0013\n"
          ],
          "name": "stdout"
        },
        {
          "output_type": "execute_result",
          "data": {
            "text/plain": [
              "<keras.callbacks.History at 0x7fea40d7c390>"
            ]
          },
          "metadata": {
            "tags": []
          },
          "execution_count": 10
        }
      ]
    },
    {
      "cell_type": "markdown",
      "metadata": {
        "id": "tCteKIVx51LR"
      },
      "source": [
        "Agora preparamos o conjunto de teste de maneira semelhante ao conjunto de treinamento. Foram feitos que 60 entradas do conjunto de teste tenham 60 valores anteriores do atributo 'High' para processamento."
      ]
    },
    {
      "cell_type": "code",
      "metadata": {
        "id": "9w6YuM9w309w"
      },
      "source": [
        "dataset_total = pd.concat((dataset[\"High\"][:'2016'],dataset[\"High\"]['2017':]),axis=0)\n",
        "inputs = dataset_total[len(dataset_total)-len(test_set) - 60:].values\n",
        "\n",
        "#reestrutura os vetores\n",
        "inputs = inputs.reshape(-1,1)\n",
        "# padroniza os dados\n",
        "inputs  = sc.transform(inputs)"
      ],
      "execution_count": 11,
      "outputs": []
    },
    {
      "cell_type": "markdown",
      "metadata": {
        "id": "rF4YdHSy6Sw2"
      },
      "source": [
        "## 5. Avaliando o Modelo1 LSTM"
      ]
    },
    {
      "cell_type": "code",
      "metadata": {
        "id": "lvMLy10D4I-u"
      },
      "source": [
        "# preparando os preços de X_test e das previsões\n",
        "X_test = []\n",
        "for i in range(60,311):\n",
        "    X_test.append(inputs[i-60:i,0])\n",
        "    \n",
        "X_test = np.array(X_test)\n",
        "X_test = np.reshape(X_test, (X_test.shape[0],X_test.shape[1],1))\n",
        "\n",
        "predicted_stock_price = regressor.predict(X_test)\n",
        "predicted_stock_price = sc.inverse_transform(predicted_stock_price)"
      ],
      "execution_count": 12,
      "outputs": []
    },
    {
      "cell_type": "markdown",
      "metadata": {
        "id": "QxLUhzEx8uw4"
      },
      "source": [
        "Vamos calcular a raiz do erro quadrático médio para ver a qualidade do modelo."
      ]
    },
    {
      "cell_type": "code",
      "metadata": {
        "colab": {
          "base_uri": "https://localhost:8080/"
        },
        "id": "NcLKEFgW4_3M",
        "outputId": "2d1cf9f0-1697-4d5b-cf1c-0860ed1dbc2b"
      },
      "source": [
        "rmse = math.sqrt(mean_squared_error(test_set, predicted_stock_price))\n",
        "print(\"RMSE = {}.\".format(rmse))"
      ],
      "execution_count": 13,
      "outputs": [
        {
          "output_type": "stream",
          "text": [
            "RMSE = 2.4111334506123376.\n"
          ],
          "name": "stdout"
        }
      ]
    },
    {
      "cell_type": "markdown",
      "metadata": {
        "id": "jfZNPsS389JX"
      },
      "source": [
        "Obtemos um erro de 2.41. O que muito bom, afinal, como é uma medida de erro, quanto menor for o valor do melhor é o modelo.\n",
        "\n",
        "Agora podemos fazer o gráfico para comparar os preços previstos com os valores reais."
      ]
    },
    {
      "cell_type": "code",
      "metadata": {
        "colab": {
          "base_uri": "https://localhost:8080/",
          "height": 513
        },
        "id": "elNnECuR4a4l",
        "outputId": "fc4eb946-68ec-43d0-cb69-ad1bdebf88bf"
      },
      "source": [
        "plt.figure(figsize=(10,8))\n",
        "plt.plot(test_set, color='red',label='Real')\n",
        "plt.plot(predicted_stock_price, color='blue',label='Previsto')\n",
        "plt.title('Previsão do Areço das Ações IBM - Modelo LSTM')\n",
        "plt.xlabel('Tempo')\n",
        "plt.ylabel('Preço das Ações IBM')\n",
        "plt.legend()\n",
        "plt.show()"
      ],
      "execution_count": 25,
      "outputs": [
        {
          "output_type": "display_data",
          "data": {
            "image/png": "[encoded data removed]",
            "text/plain": [
              "<Figure size 720x576 with 1 Axes>"
            ]
          },
          "metadata": {
            "tags": [],
            "needs_background": "light"
          }
        }
      ]
    },
    {
      "cell_type": "markdown",
      "metadata": {
        "id": "yrOlmHvWFElG"
      },
      "source": [
        "O modelo LSTM se ajustou muito bem com os dados e conseguimos reproduzir muito os preços."
      ]
    },
    {
      "cell_type": "markdown",
      "metadata": {
        "id": "ukwnSvN36fwu"
      },
      "source": [
        "## 6. Modelo2: GRU"
      ]
    },
    {
      "cell_type": "markdown",
      "metadata": {
        "id": "D0DDZQx-ALTG"
      },
      "source": [
        "A Unidade recorrente bloqueada (Gated Recurrent Units - GRU) não precisa usar uma unidade de memória para controlar o fluxo de informações como a unidade LSTM. Ele pode usar diretamente todos os estados ocultos sem nenhum controle. GRUs têm menos parâmetros e, portanto, podem treinar um pouco mais rápido ou precisam de menos dados para generalizar. \n",
        "\n",
        "GRUs são quase semelhantes aos LSTMs, exceto que têm duas portas: porta de redefinição e porta de atualização. A porta de redefinição determina como combinar a nova entrada para a memória anterior e a porta de atualização determina quanto do estado anterior deve ser mantido."
      ]
    },
    {
      "cell_type": "code",
      "metadata": {
        "colab": {
          "base_uri": "https://localhost:8080/"
        },
        "id": "ppry8FkH6ljO",
        "outputId": "acb0ad6f-8a13-4870-8e8c-cccc5b94c4d4"
      },
      "source": [
        "# arquiteta o modelo GRU\n",
        "regressorGRU = Sequential()\n",
        "# camada de entrada \n",
        "regressorGRU.add(GRU(units=50, return_sequences=True, input_shape=(X_train.shape[1],1), activation='tanh'))\n",
        "regressorGRU.add(Dropout(0.2))\n",
        "# 1° camada GRU \n",
        "regressorGRU.add(GRU(units=50, return_sequences=True, input_shape=(X_train.shape[1],1), activation='tanh'))\n",
        "regressorGRU.add(Dropout(0.2))\n",
        "# 2° camada GRU\n",
        "regressorGRU.add(GRU(units=50, return_sequences=True, input_shape=(X_train.shape[1],1), activation='tanh'))\n",
        "regressorGRU.add(Dropout(0.2))\n",
        "# 3° camada GRU \n",
        "regressorGRU.add(GRU(units=50, activation='tanh'))\n",
        "regressorGRU.add(Dropout(0.2))\n",
        "# camada de saída\n",
        "regressorGRU.add(Dense(units=1))\n",
        "\n",
        "#imprime a arquitetura do modelo\n",
        "regressorGRU.summary()"
      ],
      "execution_count": 20,
      "outputs": [
        {
          "output_type": "stream",
          "text": [
            "Model: \"sequential_1\"\n",
            "_________________________________________________________________\n",
            "Layer (type)                 Output Shape              Param #   \n",
            "=================================================================\n",
            "gru (GRU)                    (None, 60, 50)            7950      \n",
            "_________________________________________________________________\n",
            "dropout_4 (Dropout)          (None, 60, 50)            0         \n",
            "_________________________________________________________________\n",
            "gru_1 (GRU)                  (None, 60, 50)            15300     \n",
            "_________________________________________________________________\n",
            "dropout_5 (Dropout)          (None, 60, 50)            0         \n",
            "_________________________________________________________________\n",
            "gru_2 (GRU)                  (None, 60, 50)            15300     \n",
            "_________________________________________________________________\n",
            "dropout_6 (Dropout)          (None, 60, 50)            0         \n",
            "_________________________________________________________________\n",
            "gru_3 (GRU)                  (None, 50)                15300     \n",
            "_________________________________________________________________\n",
            "dropout_7 (Dropout)          (None, 50)                0         \n",
            "_________________________________________________________________\n",
            "dense_1 (Dense)              (None, 1)                 51        \n",
            "=================================================================\n",
            "Total params: 53,901\n",
            "Trainable params: 53,901\n",
            "Non-trainable params: 0\n",
            "_________________________________________________________________\n"
          ],
          "name": "stdout"
        }
      ]
    },
    {
      "cell_type": "code",
      "metadata": {
        "colab": {
          "base_uri": "https://localhost:8080/"
        },
        "id": "7mkZ9QH46r9P",
        "outputId": "3c2bae84-6442-46ce-dc1b-82102ed5afcb"
      },
      "source": [
        "# Compila o RNN\n",
        "regressorGRU.compile(optimizer=SGD(learning_rate=0.01, decay=1e-7, momentum=0.9, nesterov=False),loss='mean_squared_error')\n",
        "# Ajusta(fitting) o modelo com o conjunto de treino\n",
        "regressorGRU.fit(X_train,y_train,epochs=50,batch_size=150)"
      ],
      "execution_count": 21,
      "outputs": [
        {
          "output_type": "stream",
          "text": [
            "Epoch 1/50\n",
            "19/19 [==============================] - 13s 220ms/step - loss: 0.1675\n",
            "Epoch 2/50\n",
            "19/19 [==============================] - 4s 218ms/step - loss: 0.0537\n",
            "Epoch 3/50\n",
            "19/19 [==============================] - 4s 222ms/step - loss: 0.0186\n",
            "Epoch 4/50\n",
            "19/19 [==============================] - 4s 220ms/step - loss: 0.0059\n",
            "Epoch 5/50\n",
            "19/19 [==============================] - 4s 224ms/step - loss: 0.0046\n",
            "Epoch 6/50\n",
            "19/19 [==============================] - 5s 270ms/step - loss: 0.0042\n",
            "Epoch 7/50\n",
            "19/19 [==============================] - 4s 222ms/step - loss: 0.0043\n",
            "Epoch 8/50\n",
            "19/19 [==============================] - 4s 222ms/step - loss: 0.0040\n",
            "Epoch 9/50\n",
            "19/19 [==============================] - 4s 219ms/step - loss: 0.0036\n",
            "Epoch 10/50\n",
            "19/19 [==============================] - 4s 221ms/step - loss: 0.0034\n",
            "Epoch 11/50\n",
            "19/19 [==============================] - 4s 223ms/step - loss: 0.0036\n",
            "Epoch 12/50\n",
            "19/19 [==============================] - 7s 380ms/step - loss: 0.0029\n",
            "Epoch 13/50\n",
            "19/19 [==============================] - 4s 228ms/step - loss: 0.0031\n",
            "Epoch 14/50\n",
            "19/19 [==============================] - 5s 256ms/step - loss: 0.0029\n",
            "Epoch 15/50\n",
            "19/19 [==============================] - 7s 395ms/step - loss: 0.0029\n",
            "Epoch 16/50\n",
            "19/19 [==============================] - 6s 303ms/step - loss: 0.0028\n",
            "Epoch 17/50\n",
            "19/19 [==============================] - 4s 223ms/step - loss: 0.0028\n",
            "Epoch 18/50\n",
            "19/19 [==============================] - 5s 260ms/step - loss: 0.0028\n",
            "Epoch 19/50\n",
            "19/19 [==============================] - 4s 222ms/step - loss: 0.0027\n",
            "Epoch 20/50\n",
            "19/19 [==============================] - 4s 225ms/step - loss: 0.0028\n",
            "Epoch 21/50\n",
            "19/19 [==============================] - 5s 257ms/step - loss: 0.0029\n",
            "Epoch 22/50\n",
            "19/19 [==============================] - 6s 326ms/step - loss: 0.0027\n",
            "Epoch 23/50\n",
            "19/19 [==============================] - 7s 352ms/step - loss: 0.0026\n",
            "Epoch 24/50\n",
            "19/19 [==============================] - 5s 263ms/step - loss: 0.0026\n",
            "Epoch 25/50\n",
            "19/19 [==============================] - 4s 219ms/step - loss: 0.0025\n",
            "Epoch 26/50\n",
            "19/19 [==============================] - 4s 213ms/step - loss: 0.0025\n",
            "Epoch 27/50\n",
            "19/19 [==============================] - 4s 220ms/step - loss: 0.0025\n",
            "Epoch 28/50\n",
            "19/19 [==============================] - 4s 219ms/step - loss: 0.0024\n",
            "Epoch 29/50\n",
            "19/19 [==============================] - 4s 220ms/step - loss: 0.0026\n",
            "Epoch 30/50\n",
            "19/19 [==============================] - 4s 219ms/step - loss: 0.0024\n",
            "Epoch 31/50\n",
            "19/19 [==============================] - 4s 219ms/step - loss: 0.0023\n",
            "Epoch 32/50\n",
            "19/19 [==============================] - 4s 222ms/step - loss: 0.0023\n",
            "Epoch 33/50\n",
            "19/19 [==============================] - 4s 221ms/step - loss: 0.0023\n",
            "Epoch 34/50\n",
            "19/19 [==============================] - 4s 219ms/step - loss: 0.0025\n",
            "Epoch 35/50\n",
            "19/19 [==============================] - 4s 220ms/step - loss: 0.0024\n",
            "Epoch 36/50\n",
            "19/19 [==============================] - 4s 222ms/step - loss: 0.0022\n",
            "Epoch 37/50\n",
            "19/19 [==============================] - 4s 221ms/step - loss: 0.0023\n",
            "Epoch 38/50\n",
            "19/19 [==============================] - 5s 251ms/step - loss: 0.0023\n",
            "Epoch 39/50\n",
            "19/19 [==============================] - 4s 221ms/step - loss: 0.0024\n",
            "Epoch 40/50\n",
            "19/19 [==============================] - 4s 221ms/step - loss: 0.0022\n",
            "Epoch 41/50\n",
            "19/19 [==============================] - 4s 223ms/step - loss: 0.0022\n",
            "Epoch 42/50\n",
            "19/19 [==============================] - 4s 218ms/step - loss: 0.0021\n",
            "Epoch 43/50\n",
            "19/19 [==============================] - 4s 224ms/step - loss: 0.0023\n",
            "Epoch 44/50\n",
            "19/19 [==============================] - 4s 226ms/step - loss: 0.0022\n",
            "Epoch 45/50\n",
            "19/19 [==============================] - 4s 220ms/step - loss: 0.0021\n",
            "Epoch 46/50\n",
            "19/19 [==============================] - 4s 219ms/step - loss: 0.0021\n",
            "Epoch 47/50\n",
            "19/19 [==============================] - 4s 221ms/step - loss: 0.0020\n",
            "Epoch 48/50\n",
            "19/19 [==============================] - 5s 260ms/step - loss: 0.0020\n",
            "Epoch 49/50\n",
            "19/19 [==============================] - 4s 219ms/step - loss: 0.0020\n",
            "Epoch 50/50\n",
            "19/19 [==============================] - 4s 219ms/step - loss: 0.0020\n"
          ],
          "name": "stdout"
        },
        {
          "output_type": "execute_result",
          "data": {
            "text/plain": [
              "<keras.callbacks.History at 0x7fea3bdc4310>"
            ]
          },
          "metadata": {
            "tags": []
          },
          "execution_count": 21
        }
      ]
    },
    {
      "cell_type": "markdown",
      "metadata": {
        "id": "peeswRdg8ZPh"
      },
      "source": [
        "## 7. Avaliando o Modelo2 GRU"
      ]
    },
    {
      "cell_type": "code",
      "metadata": {
        "id": "vz1F0nrr8GVv"
      },
      "source": [
        "# preparando os preços das previsões\n",
        "GRU_predicted_stock_price = regressorGRU.predict(X_test)\n",
        "GRU_predicted_stock_price = sc.inverse_transform(GRU_predicted_stock_price)"
      ],
      "execution_count": 22,
      "outputs": []
    },
    {
      "cell_type": "markdown",
      "metadata": {
        "id": "sQvG4aIeDL8D"
      },
      "source": [
        "Vamos calcular a raiz do erro quadrático médio para ver a qualidade do modelo."
      ]
    },
    {
      "cell_type": "code",
      "metadata": {
        "colab": {
          "base_uri": "https://localhost:8080/"
        },
        "id": "qQtbZm0S8ilV",
        "outputId": "655a9113-b655-47de-8cf0-288655d7e6ff"
      },
      "source": [
        "rmse = math.sqrt(mean_squared_error(test_set,GRU_predicted_stock_price))\n",
        "print(\"RMSE = {}.\".format(rmse))"
      ],
      "execution_count": 23,
      "outputs": [
        {
          "output_type": "stream",
          "text": [
            "RMSE = 3.2999235690308946.\n"
          ],
          "name": "stdout"
        }
      ]
    },
    {
      "cell_type": "markdown",
      "metadata": {
        "id": "-UOtc5IGEQUC"
      },
      "source": [
        "Obtemos um erro de 3.3. Esse valor é maior do que encontramos para o modelo LSTM, mas ainda sim é pequeno e valida a eficácia do GRU para este projeto.\n",
        "\n",
        "Por fim, vamos fazer o gráfico dos valores previsto pelo GRU e dos preços reais."
      ]
    },
    {
      "cell_type": "code",
      "metadata": {
        "colab": {
          "base_uri": "https://localhost:8080/",
          "height": 459
        },
        "id": "wwGk1wTAypN4",
        "outputId": "93ed8283-6191-4c7b-fccf-e7ebe3bf0b6b"
      },
      "source": [
        "plt.figure(figsize=(10,7))\n",
        "plt.plot(test_set, color='red',label='Real')\n",
        "plt.plot(GRU_predicted_stock_price, color='blue',label='Prvisto')\n",
        "plt.title('Previsão do Preço das Ações IBM - Modelo GRU')\n",
        "plt.xlabel('Tempo')\n",
        "plt.ylabel('Preço das Ações IBM')\n",
        "plt.legend()\n",
        "plt.show()"
      ],
      "execution_count": 24,
      "outputs": [
        {
          "output_type": "display_data",
          "data": {
            "image/png": "[encoded data removed]",
            "text/plain": [
              "<Figure size 720x504 with 1 Axes>"
            ]
          },
          "metadata": {
            "tags": [],
            "needs_background": "light"
          }
        }
      ]
    },
    {
      "cell_type": "markdown",
      "metadata": {
        "id": "2CxxUFygFW07"
      },
      "source": [
        "O modelo GRU conseguiu acompanhar a trajetória da curva real, porém com uma precisão menor das flutuações dos preços."
      ]
    },
    {
      "cell_type": "markdown",
      "metadata": {
        "id": "ficILyC6Fmyo"
      },
      "source": [
        "## 8. Conclusão\n",
        "\n",
        "Criamos dois modelos de RNN para prever os preços em alta das açoes da IBM. Ambos os modelos conseguiram resultados satisfatórios. O modelo LSTM se sai melhor que o GRU no requisito precisão das flutuações dos preços e menor erro da previsão dos preços."
      ]
    },
    {
      "cell_type": "code",
      "metadata": {
        "id": "E_l6dDoQ81vr"
      },
      "source": [
        ""
      ],
      "execution_count": null,
      "outputs": []
    }
  ]
}