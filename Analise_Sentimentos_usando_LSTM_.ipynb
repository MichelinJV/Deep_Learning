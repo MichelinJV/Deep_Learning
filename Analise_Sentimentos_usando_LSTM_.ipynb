{
  "cells": [
    {
      "cell_type": "markdown",
      "metadata": {
        "id": "v3I38dxq2Sfg"
      },
      "source": [
        "# **Classificando Avaliações de Filmes usando LSTM**\r\n",
        "-------"
      ]
    },
    {
      "cell_type": "markdown",
      "metadata": {},
      "source": [
        "## Introdução\r\n",
        "\r\n",
        "Processamento de Linguagem Natural é um ramo da Inteligência Artificial que lida com a ponte entre as máquinas que entendem os humanos em sua Linguagem Natural. \r\n",
        "\r\n",
        "Análise de sentimento é a classificação da opinião ou expressão das pessoas em diferentes sentimentos. Os sentimentos incluem positivo ou negativo, avaliações de resenhas/críticas, feliz ou triste, etc. A análise de sentimento pode ser feita em diferentes indústrias centradas no consumidor para analisar a opinião das pessoas sobre um determinado produto ou assunto. \r\n",
        "\r\n",
        "IMDb (Internet Movie Database) é um banco de dados online de informações relacionadas a filmes, programas de televisão, vídeos caseiros, videogames e streaming de conteúdo online - incluindo elenco, equipe de produção e biografias pessoais, resumos de enredo, curiosidades, classificações, fãs e análises críticas. Esse dataset é um dos mais famosos para modelos de classificação de textos.\r\n",
        "\r\n",
        "Redes neurais recorrentes, do qual LSTMs (unidades de \"memória de longo prazo\") é o subconjunto mais poderoso e bem conhecido, são um tipo de rede neural artificial projetada para reconhecer padrões em sequências de dados, tais como dados de séries temporais numéricas de sensores e mercados de ações, além de também reconhecer sequência de texto, genomas, caligrafia e palavra falada. É uma ótima ferramenta para estudar análise de sentimentos.\r\n"
      ]
    },
    {
      "cell_type": "markdown",
      "metadata": {},
      "source": [
        "## Objetivo\r\n",
        "\r\n",
        "O objetico é criar um analisador de resenhas que possa classificar as críticas dos filmes em positiva ou negativa usando redes neurais do tipo LSTM."
      ]
    },
    {
      "cell_type": "markdown",
      "metadata": {},
      "source": [
        "## Dataset\r\n",
        "\r\n",
        "O dataset utilizado é uma versão do imbd com o conteúdo das críticas traduzidas para o português.\r\n",
        "\r\n",
        "Link do dataset: <a href=\"https://www.kaggle.com/luisfredgs/imdb-ptbr\" target=\"_blanck\">Kaggle - IMDB PT-BR <a/>\r\n"
      ]
    },
    {
      "cell_type": "markdown",
      "metadata": {
        "id": "rW6huwBYpfBT"
      },
      "source": [
        "## 1. Importando as Bibliotecas e os Dados\r\n",
        "\r\n"
      ]
    },
    {
      "cell_type": "code",
      "execution_count": 71,
      "metadata": {
        "colab": {
          "base_uri": "https://localhost:8080/"
        },
        "id": "DfsfztS6YTB7",
        "outputId": "37bb13bc-a543-4657-c83b-000be49f1264"
      },
      "outputs": [
        {
          "name": "stdout",
          "output_type": "stream",
          "text": [
            "[nltk_data] Downloading package stopwords to /root/nltk_data...\n",
            "[nltk_data]   Package stopwords is already up-to-date!\n"
          ]
        }
      ],
      "source": [
        "import pandas as pd\n",
        "import numpy as np\n",
        "import matplotlib.pyplot as plt\n",
        "import seaborn as sns\n",
        "\n",
        "from sklearn.model_selection import train_test_split\n",
        "from sklearn.metrics import confusion_matrix, classification_report \n",
        "\n",
        "import tensorflow as tf\n",
        "from tensorflow.keras.layers import Input, Dense, Dropout\n",
        "from tensorflow.keras.models import Sequential\n",
        "from tensorflow.keras.layers import Embedding, SpatialDropout1D,LSTM\n",
        "\n",
        "from tensorflow.keras.preprocessing.text import Tokenizer\n",
        "from tensorflow.keras.preprocessing.sequence import pad_sequences\n",
        "\n",
        "import nltk\n",
        "from nltk.corpus import stopwords\n",
        "nltk.download('stopwords')\n",
        "import re\n"
      ]
    },
    {
      "cell_type": "code",
      "execution_count": 97,
      "metadata": {
        "colab": {
          "base_uri": "https://localhost:8080/",
          "height": 216
        },
        "id": "x2js2O2HaaXG",
        "outputId": "da2021e6-fe07-45f5-aa35-518a949dd862"
      },
      "outputs": [
        {
          "name": "stdout",
          "output_type": "stream",
          "text": [
            "Número de linhas:49459. Número de colunas:4\n"
          ]
        },
        {
          "data": {
            "text/html": [
              "<div>\n",
              "<style scoped>\n",
              "    .dataframe tbody tr th:only-of-type {\n",
              "        vertical-align: middle;\n",
              "    }\n",
              "\n",
              "    .dataframe tbody tr th {\n",
              "        vertical-align: top;\n",
              "    }\n",
              "\n",
              "    .dataframe thead th {\n",
              "        text-align: right;\n",
              "    }\n",
              "</style>\n",
              "<table border=\"1\" class=\"dataframe\">\n",
              "  <thead>\n",
              "    <tr style=\"text-align: right;\">\n",
              "      <th></th>\n",
              "      <th>id</th>\n",
              "      <th>text_en</th>\n",
              "      <th>text_pt</th>\n",
              "      <th>sentiment</th>\n",
              "    </tr>\n",
              "  </thead>\n",
              "  <tbody>\n",
              "    <tr>\n",
              "      <th>0</th>\n",
              "      <td>1</td>\n",
              "      <td>Once again Mr. Costner has dragged out a movie...</td>\n",
              "      <td>Mais uma vez, o Sr. Costner arrumou um filme p...</td>\n",
              "      <td>neg</td>\n",
              "    </tr>\n",
              "    <tr>\n",
              "      <th>1</th>\n",
              "      <td>2</td>\n",
              "      <td>This is an example of why the majority of acti...</td>\n",
              "      <td>Este é um exemplo do motivo pelo qual a maiori...</td>\n",
              "      <td>neg</td>\n",
              "    </tr>\n",
              "    <tr>\n",
              "      <th>2</th>\n",
              "      <td>3</td>\n",
              "      <td>First of all I hate those moronic rappers, who...</td>\n",
              "      <td>Primeiro de tudo eu odeio esses raps imbecis, ...</td>\n",
              "      <td>neg</td>\n",
              "    </tr>\n",
              "    <tr>\n",
              "      <th>3</th>\n",
              "      <td>4</td>\n",
              "      <td>Not even the Beatles could write songs everyon...</td>\n",
              "      <td>Nem mesmo os Beatles puderam escrever músicas ...</td>\n",
              "      <td>neg</td>\n",
              "    </tr>\n",
              "    <tr>\n",
              "      <th>4</th>\n",
              "      <td>5</td>\n",
              "      <td>Brass pictures movies is not a fitting word fo...</td>\n",
              "      <td>Filmes de fotos de latão não é uma palavra apr...</td>\n",
              "      <td>neg</td>\n",
              "    </tr>\n",
              "  </tbody>\n",
              "</table>\n",
              "</div>"
            ],
            "text/plain": [
              "   id  ... sentiment\n",
              "0   1  ...       neg\n",
              "1   2  ...       neg\n",
              "2   3  ...       neg\n",
              "3   4  ...       neg\n",
              "4   5  ...       neg\n",
              "\n",
              "[5 rows x 4 columns]"
            ]
          },
          "execution_count": 97,
          "metadata": {
            "tags": []
          },
          "output_type": "execute_result"
        }
      ],
      "source": [
        "imdb = pd.read_csv(\"/content/imdb-reviews-pt-br.csv\")\n",
        "print(f\"Número de linhas:{imdb.shape[0]}. Número de colunas:{imdb.shape[1]}\")\n",
        "imdb.head()"
      ]
    },
    {
      "cell_type": "markdown",
      "metadata": {
        "id": "R5Ftl6MppmYq"
      },
      "source": [
        "## 2. Preprocessando os Textos"
      ]
    },
    {
      "cell_type": "markdown",
      "metadata": {},
      "source": [
        "O dataset possui 4 colunas, porém só nos interessa duas delas, a coluna das críticas em português e a coluna do sentimento associado à crítica. Portanto, podemos exluir as outras duas."
      ]
    },
    {
      "cell_type": "code",
      "execution_count": 98,
      "metadata": {
        "colab": {
          "base_uri": "https://localhost:8080/",
          "height": 407
        },
        "id": "ltqcH9LiazEk",
        "outputId": "44aa19a3-7560-4dca-eb08-4190ccaf8ad4"
      },
      "outputs": [
        {
          "data": {
            "text/html": [
              "<div>\n",
              "<style scoped>\n",
              "    .dataframe tbody tr th:only-of-type {\n",
              "        vertical-align: middle;\n",
              "    }\n",
              "\n",
              "    .dataframe tbody tr th {\n",
              "        vertical-align: top;\n",
              "    }\n",
              "\n",
              "    .dataframe thead th {\n",
              "        text-align: right;\n",
              "    }\n",
              "</style>\n",
              "<table border=\"1\" class=\"dataframe\">\n",
              "  <thead>\n",
              "    <tr style=\"text-align: right;\">\n",
              "      <th></th>\n",
              "      <th>text_pt</th>\n",
              "      <th>sentiment</th>\n",
              "    </tr>\n",
              "  </thead>\n",
              "  <tbody>\n",
              "    <tr>\n",
              "      <th>0</th>\n",
              "      <td>Mais uma vez, o Sr. Costner arrumou um filme p...</td>\n",
              "      <td>neg</td>\n",
              "    </tr>\n",
              "    <tr>\n",
              "      <th>1</th>\n",
              "      <td>Este é um exemplo do motivo pelo qual a maiori...</td>\n",
              "      <td>neg</td>\n",
              "    </tr>\n",
              "    <tr>\n",
              "      <th>2</th>\n",
              "      <td>Primeiro de tudo eu odeio esses raps imbecis, ...</td>\n",
              "      <td>neg</td>\n",
              "    </tr>\n",
              "    <tr>\n",
              "      <th>3</th>\n",
              "      <td>Nem mesmo os Beatles puderam escrever músicas ...</td>\n",
              "      <td>neg</td>\n",
              "    </tr>\n",
              "    <tr>\n",
              "      <th>4</th>\n",
              "      <td>Filmes de fotos de latão não é uma palavra apr...</td>\n",
              "      <td>neg</td>\n",
              "    </tr>\n",
              "    <tr>\n",
              "      <th>...</th>\n",
              "      <td>...</td>\n",
              "      <td>...</td>\n",
              "    </tr>\n",
              "    <tr>\n",
              "      <th>49454</th>\n",
              "      <td>Como a média de votos era muito baixa, e o fat...</td>\n",
              "      <td>pos</td>\n",
              "    </tr>\n",
              "    <tr>\n",
              "      <th>49455</th>\n",
              "      <td>O enredo teve algumas reviravoltas infelizes e...</td>\n",
              "      <td>pos</td>\n",
              "    </tr>\n",
              "    <tr>\n",
              "      <th>49456</th>\n",
              "      <td>Estou espantado com a forma como este filme e ...</td>\n",
              "      <td>pos</td>\n",
              "    </tr>\n",
              "    <tr>\n",
              "      <th>49457</th>\n",
              "      <td>A Christmas Together realmente veio antes do m...</td>\n",
              "      <td>pos</td>\n",
              "    </tr>\n",
              "    <tr>\n",
              "      <th>49458</th>\n",
              "      <td>O drama romântico da classe trabalhadora do di...</td>\n",
              "      <td>pos</td>\n",
              "    </tr>\n",
              "  </tbody>\n",
              "</table>\n",
              "<p>49459 rows × 2 columns</p>\n",
              "</div>"
            ],
            "text/plain": [
              "                                                 text_pt sentiment\n",
              "0      Mais uma vez, o Sr. Costner arrumou um filme p...       neg\n",
              "1      Este é um exemplo do motivo pelo qual a maiori...       neg\n",
              "2      Primeiro de tudo eu odeio esses raps imbecis, ...       neg\n",
              "3      Nem mesmo os Beatles puderam escrever músicas ...       neg\n",
              "4      Filmes de fotos de latão não é uma palavra apr...       neg\n",
              "...                                                  ...       ...\n",
              "49454  Como a média de votos era muito baixa, e o fat...       pos\n",
              "49455  O enredo teve algumas reviravoltas infelizes e...       pos\n",
              "49456  Estou espantado com a forma como este filme e ...       pos\n",
              "49457  A Christmas Together realmente veio antes do m...       pos\n",
              "49458  O drama romântico da classe trabalhadora do di...       pos\n",
              "\n",
              "[49459 rows x 2 columns]"
            ]
          },
          "execution_count": 98,
          "metadata": {
            "tags": []
          },
          "output_type": "execute_result"
        }
      ],
      "source": [
        "imdb = imdb.drop(['id','text_en'],axis=1)\n",
        "imdb"
      ]
    },
    {
      "cell_type": "markdown",
      "metadata": {},
      "source": [
        "Em posse dos dados de interesse, temos que limpar os textos para facilitar o modelo no reconhecimento das palvras. Para isso vamos quebrar as frases, tirar acentuações, números, possíveis url, e colocar todoas as palavras em minúscula. \r\n",
        "\r\n",
        "Além disso, existem palavras ditas vazias pois não transmitem informações, as chamadas 'stopwords'. Tais palavras precissam ser eliminadas dos textos. Exemplos: as, e, os, de, para, com, sem, foi.\r\n",
        "\r\n",
        "Vamos então criar uma função que realize todas essas funções citadas."
      ]
    },
    {
      "cell_type": "code",
      "execution_count": 99,
      "metadata": {
        "id": "v5s39mCDcg2V"
      },
      "outputs": [],
      "source": [
        "def text_cleaning(text):\n",
        "    forbidden_words = set(stopwords.words('portuguese'))\n",
        "    if text:\n",
        "        text = ' '.join(text.split('.'))\n",
        "        text = re.sub('\\/',' ',text)\n",
        "        text = re.sub(r'\\\\',' ',text)\n",
        "        text = re.sub(r'((http)\\S+)','',text)\n",
        "        text = re.sub(r'\\s+', ' ', re.sub('[^A-Za-z]', ' ', text.strip().lower())).strip()\n",
        "        text = re.sub(r'\\W+', ' ', text.strip().lower()).strip()\n",
        "        text = [word for word in text.split() if word not in forbidden_words]\n",
        "        return text"
      ]
    },
    {
      "cell_type": "code",
      "execution_count": 100,
      "metadata": {
        "id": "EMgYAcsic2vR"
      },
      "outputs": [],
      "source": [
        "# aplica a função text_cleaning nas críticas\r\n",
        "imdb['text_pt'] = imdb['text_pt'].apply(lambda x: ' '.join(text_cleaning(x)))"
      ]
    },
    {
      "cell_type": "markdown",
      "metadata": {
        "id": "drymgIWup1He"
      },
      "source": [
        "## 3. Dividindo os Dados"
      ]
    },
    {
      "cell_type": "markdown",
      "metadata": {},
      "source": [
        "Vamos dividir os dados em conjunto de treino e de teste. Temos que também alterar os rótulos das classificações de categóricas (neg, pos) para numérica (0,1), uma vez que o modelo trabalha melhor com números."
      ]
    },
    {
      "cell_type": "code",
      "execution_count": 101,
      "metadata": {
        "id": "kdxTBkmleSZB"
      },
      "outputs": [],
      "source": [
        "X = imdb['text_pt']\n",
        "y = pd.get_dummies(imdb['sentiment']).values\n",
        "\n",
        "X_train, X_test, y_train, y_test = train_test_split(X, y, test_size = 0.1, random_state = 17)"
      ]
    },
    {
      "cell_type": "markdown",
      "metadata": {},
      "source": [
        "Abaixo exibimos o tamanho (linhas, colunas) para as variáveis X e y dos conjuntos de treino e de teste."
      ]
    },
    {
      "cell_type": "code",
      "execution_count": 102,
      "metadata": {
        "colab": {
          "base_uri": "https://localhost:8080/"
        },
        "id": "UZC_u0jkMahL",
        "outputId": "92a50de2-6a32-4589-d76f-5a41fabbdf66"
      },
      "outputs": [
        {
          "name": "stdout",
          "output_type": "stream",
          "text": [
            "Treino:  (44513,) (44513, 2)\n",
            "Teste:  (4946,) (4946, 2)\n"
          ]
        }
      ],
      "source": [
        "print(\"Treino: \", X_train.shape,y_train.shape)\n",
        "print(\"Teste: \", X_test.shape,y_test.shape)"
      ]
    },
    {
      "cell_type": "markdown",
      "metadata": {
        "id": "o1R9ufpjp80W"
      },
      "source": [
        "## 4. Tokenização"
      ]
    },
    {
      "cell_type": "code",
      "execution_count": 103,
      "metadata": {
        "id": "Ac9EkTKKtrRs"
      },
      "outputs": [],
      "source": [
        "# defini valores das constantes que serão usadas\r\n",
        "max_fatures = 2000\r\n",
        "embed_dim = 128\r\n",
        "lstm_out = 196\r\n",
        "batch_size = 256"
      ]
    },
    {
      "cell_type": "markdown",
      "metadata": {},
      "source": [
        "Dada uma sequência de caracteres textuais e uma unidade de documento, a tokenização é a tarefa de dividi-la em pedaços, chamados de tokens. O processo é chamado de Tokenização. \r\n",
        "\r\n",
        "O objeto 'tokenizer' crie tokens para cada palavra no corpus de dados e mapeie-os para um índice usando um dicionário, que pode ser usado para converter qualquer palavra em uma chave no dicionário (número). "
      ]
    },
    {
      "cell_type": "code",
      "execution_count": 104,
      "metadata": {
        "id": "1v2ddaaOmljT"
      },
      "outputs": [],
      "source": [
        "tokenizer = Tokenizer(num_words=max_fatures, split=' ')\n",
        "tokenizer.fit_on_texts(X_train.values)\n"
      ]
    },
    {
      "cell_type": "markdown",
      "metadata": {},
      "source": [
        "Como vamos construir um modelo de sequência, devemos alimentá-lo com uma sequência de números criadas pelo tokenizer. Também devemos garantir que não haja variação nas formas de entrada das sequências. Tudo deve ser do mesmo comprimento. Mas os textos nas resenhas tem diferentes contagens de palavras. Para evitar isso usamos o 'pad_sequence', que fará com que toda a sequência tenha um comprimento constante."
      ]
    },
    {
      "cell_type": "code",
      "execution_count": 105,
      "metadata": {
        "id": "yIlGBbdOf4dh"
      },
      "outputs": [],
      "source": [
        "X_train = pad_sequences(tokenizer.texts_to_sequences(X_train.values))\n",
        "X_test = pad_sequences(tokenizer.texts_to_sequences(X_test.values))"
      ]
    },
    {
      "cell_type": "markdown",
      "metadata": {
        "id": "xq9voKkcqJoN"
      },
      "source": [
        "## 5. Criando o Modelo"
      ]
    },
    {
      "cell_type": "markdown",
      "metadata": {},
      "source": [
        "A seguir, arquitetamos o modlo de rede LSTM."
      ]
    },
    {
      "cell_type": "code",
      "execution_count": 106,
      "metadata": {
        "colab": {
          "base_uri": "https://localhost:8080/"
        },
        "id": "nJX7tQbdvbU5",
        "outputId": "10c86e7e-303a-400f-eae2-acf5ee6225b8"
      },
      "outputs": [
        {
          "name": "stdout",
          "output_type": "stream",
          "text": [
            "WARNING:tensorflow:Layer lstm_2 will not use cuDNN kernels since it doesn't meet the criteria. It will use a generic GPU kernel as fallback when running on GPU.\n",
            "Model: \"sequential_3\"\n",
            "_________________________________________________________________\n",
            "Layer (type)                 Output Shape              Param #   \n",
            "=================================================================\n",
            "embedding_3 (Embedding)      (None, 464, 128)          256000    \n",
            "_________________________________________________________________\n",
            "spatial_dropout1d_3 (Spatial (None, 464, 128)          0         \n",
            "_________________________________________________________________\n",
            "lstm_2 (LSTM)                (None, 196)               254800    \n",
            "_________________________________________________________________\n",
            "dense_2 (Dense)              (None, 2)                 394       \n",
            "=================================================================\n",
            "Total params: 511,194\n",
            "Trainable params: 511,194\n",
            "Non-trainable params: 0\n",
            "_________________________________________________________________\n",
            "None\n"
          ]
        }
      ],
      "source": [
        "model = Sequential()\n",
        "model.add(Embedding(max_fatures, embed_dim,input_length = X_train.shape[1]))\n",
        "model.add(SpatialDropout1D(0.4))\n",
        "model.add(LSTM(lstm_out, dropout=0.2, recurrent_dropout=0.2))\n",
        "model.add(Dense(2,activation='softmax'))\n",
        "model.compile(loss = 'categorical_crossentropy', optimizer='adam',metrics = ['accuracy'])\n",
        "print(model.summary())"
      ]
    },
    {
      "cell_type": "markdown",
      "metadata": {},
      "source": [
        "Dos dados de teste, vamos parcioná-los para criar um conjunto de validação do modelo.\r\n",
        "\r\n",
        "Em seguida, treinamos o modelo."
      ]
    },
    {
      "cell_type": "code",
      "execution_count": 107,
      "metadata": {
        "id": "F7CHlWpAMJSM"
      },
      "outputs": [],
      "source": [
        "validation_size = 2000\n",
        "\n",
        "X_validate = X_test[-validation_size:]\n",
        "y_validate = y_test[-validation_size:]\n",
        "X_test = X_test[:-validation_size]\n",
        "y_test = y_test[:-validation_size]"
      ]
    },
    {
      "cell_type": "code",
      "execution_count": 108,
      "metadata": {
        "colab": {
          "base_uri": "https://localhost:8080/"
        },
        "id": "UAgtaZWtvycN",
        "outputId": "0e4c4481-93bd-4cb6-ce61-c798b80eca95"
      },
      "outputs": [
        {
          "name": "stdout",
          "output_type": "stream",
          "text": [
            "Epoch 1/8\n",
            "174/174 [==============================] - ETA: 0s - loss: 0.4654 - accuracy: 0.7843WARNING:tensorflow:Model was constructed with shape (None, 464) for input KerasTensor(type_spec=TensorSpec(shape=(None, 464), dtype=tf.float32, name='embedding_3_input'), name='embedding_3_input', description=\"created by layer 'embedding_3_input'\"), but it was called on an input with incompatible shape (None, 443).\n",
            "174/174 [==============================] - 323s 2s/step - loss: 0.4654 - accuracy: 0.7843 - val_loss: 0.2984 - val_accuracy: 0.8760\n",
            "Epoch 2/8\n",
            "174/174 [==============================] - 318s 2s/step - loss: 0.3106 - accuracy: 0.8709 - val_loss: 0.3005 - val_accuracy: 0.8775\n",
            "Epoch 3/8\n",
            "174/174 [==============================] - 315s 2s/step - loss: 0.3024 - accuracy: 0.8748 - val_loss: 0.2903 - val_accuracy: 0.8805\n",
            "Epoch 4/8\n",
            "174/174 [==============================] - 311s 2s/step - loss: 0.2844 - accuracy: 0.8826 - val_loss: 0.3031 - val_accuracy: 0.8775\n",
            "Epoch 5/8\n",
            "174/174 [==============================] - 313s 2s/step - loss: 0.2761 - accuracy: 0.8860 - val_loss: 0.3011 - val_accuracy: 0.8735\n",
            "Epoch 6/8\n",
            "174/174 [==============================] - 311s 2s/step - loss: 0.2685 - accuracy: 0.8887 - val_loss: 0.3068 - val_accuracy: 0.8775\n",
            "Epoch 7/8\n",
            "174/174 [==============================] - 310s 2s/step - loss: 0.2609 - accuracy: 0.8925 - val_loss: 0.3017 - val_accuracy: 0.8790\n",
            "Epoch 8/8\n",
            "174/174 [==============================] - 310s 2s/step - loss: 0.2620 - accuracy: 0.8926 - val_loss: 0.3279 - val_accuracy: 0.8695\n"
          ]
        }
      ],
      "source": [
        "# treina e ajusta o modelo com os dados de treino e validação\r\n",
        "history = model.fit(X_train, y_train, epochs = 8, batch_size=batch_size, validation_data=(X_validate,y_validate))"
      ]
    },
    {
      "cell_type": "markdown",
      "metadata": {},
      "source": [
        "Para cada ciclo(epochs) de treino, o modelo mostra a acurácia e a função de perda (relacionada com o erro do modelo). Vamos criar gráficos com esses valores."
      ]
    },
    {
      "cell_type": "code",
      "execution_count": 111,
      "metadata": {
        "colab": {
          "base_uri": "https://localhost:8080/",
          "height": 513
        },
        "id": "CZCYNgnycJVb",
        "outputId": "188c585f-e46a-41c7-d971-2a809b8fda81"
      },
      "outputs": [
        {
          "data": {
            "image/png": "[encoded data removed]",
            "text/plain": [
              "<Figure size 720x504 with 2 Axes>"
            ]
          },
          "metadata": {
            "needs_background": "light",
            "tags": []
          },
          "output_type": "display_data"
        }
      ],
      "source": [
        "s, (at, al) = plt.subplots(2,1,figsize=(10,7))\n",
        "at.plot(history.history['accuracy'], c= 'b')\n",
        "at.plot(history.history['val_accuracy'], c='r')\n",
        "at.set_title('Acurácia do Modelo')\n",
        "at.set_ylabel('acurácia')\n",
        "at.set_xlabel('epoch')\n",
        "at.legend(['treino', 'validação'], loc='upper left')\n",
        "\n",
        "al.plot(history.history['loss'], c='m')\n",
        "al.plot(history.history['val_loss'], c='c')\n",
        "al.set_title('Perda do Modelo')\n",
        "al.set_ylabel('perda')\n",
        "al.set_xlabel('epoch')\n",
        "al.legend(['treino', 'validação'], loc='upper left')\n",
        "plt.tight_layout()\n",
        "plt.show()"
      ]
    },
    {
      "cell_type": "markdown",
      "metadata": {},
      "source": [
        "Dos gráficos acima vemos que conseguimos aumentar a acurácia (acima de 86%) e diminuir a perda do modelo (abaixo de 33%) tanto para o conjunto de teino quanto para o de validação. Isso é um bom indicativo de que nosso modelo possa funcionar bem."
      ]
    },
    {
      "cell_type": "markdown",
      "metadata": {
        "id": "I5-9vsXE1PXC"
      },
      "source": [
        "## 6. Avaliando o Modelo"
      ]
    },
    {
      "cell_type": "markdown",
      "metadata": {},
      "source": [
        "Nessa parte vamos realizar testes para verificar a qualidade do modelo. Primeiro vamos usar os dados de teste para verificar a acurácia e a perda."
      ]
    },
    {
      "cell_type": "code",
      "execution_count": 113,
      "metadata": {
        "colab": {
          "base_uri": "https://localhost:8080/"
        },
        "id": "58wBDBE4wCDf",
        "outputId": "9426ba4e-75fe-4ff0-c307-f04a3f8cc9bd"
      },
      "outputs": [
        {
          "name": "stdout",
          "output_type": "stream",
          "text": [
            "12/12 - 3s - loss: 0.3314 - accuracy: 0.8693\n",
            "Perda: 0.33\n",
            "Acurácia: 0.87\n"
          ]
        }
      ],
      "source": [
        "loss, acc = model.evaluate(X_test, y_test, batch_size = batch_size,verbose=2)\n",
        "print(\"Perda: %.2f\" % (loss))\n",
        "print(\"Acurácia: %.2f\" % (acc))"
      ]
    },
    {
      "cell_type": "markdown",
      "metadata": {},
      "source": [
        "Temos portanto um modelo com 87% de acurácia e perda (erro) de 33% na classificação de novas resenhas.\r\n",
        "\r\n",
        "Próximo passo é tentar fazer uma classificação direto das resenhas de teste, ou seja, ver se o modelo consegue prever se as resenhas são positivas(1) ou negativas(0)."
      ]
    },
    {
      "cell_type": "code",
      "execution_count": 114,
      "metadata": {
        "colab": {
          "base_uri": "https://localhost:8080/"
        },
        "id": "pyVmZG4EcDkz",
        "outputId": "df3e0137-1113-4597-ba0f-95f79914a296"
      },
      "outputs": [
        {
          "name": "stdout",
          "output_type": "stream",
          "text": [
            "WARNING:tensorflow:Model was constructed with shape (None, 464) for input KerasTensor(type_spec=TensorSpec(shape=(None, 464), dtype=tf.float32, name='embedding_3_input'), name='embedding_3_input', description=\"created by layer 'embedding_3_input'\"), but it was called on an input with incompatible shape (None, 443).\n",
            "93/93 [==============================] - 19s 202ms/step\n"
          ]
        }
      ],
      "source": [
        "# transforma o resultado da previsão em 0 ou 1\r\n",
        "def decode_sentiment(score):\r\n",
        "    return 1 if score>0.5 else 0\r\n",
        "\r\n",
        "# previsão da classificação\r\n",
        "scores = model.predict(X_test, verbose=1)\r\n",
        "y_pred = [decode_sentiment(score[1]) for score in scores]"
      ]
    },
    {
      "cell_type": "markdown",
      "metadata": {},
      "source": [
        "Para avaliar as previsões vamos fazer uma matriz de confusão, onde podemos comparar a classificação prevista com a real. Também vamos calcular a precisão dos resultados."
      ]
    },
    {
      "cell_type": "code",
      "execution_count": 117,
      "metadata": {
        "colab": {
          "base_uri": "https://localhost:8080/",
          "height": 638
        },
        "id": "3zBdN-Y_jGfe",
        "outputId": "8c2a504e-c506-443e-99b8-7112318f939f"
      },
      "outputs": [
        {
          "data": {
            "image/png": "[encoded data removed]",
            "text/plain": [
              "<Figure size 576x504 with 1 Axes>"
            ]
          },
          "metadata": {
            "needs_background": "light",
            "tags": []
          },
          "output_type": "display_data"
        },
        {
          "name": "stdout",
          "output_type": "stream",
          "text": [
            "              precision    recall  f1-score   support\n",
            "\n",
            "           0       0.90      0.83      0.87      1503\n",
            "           1       0.84      0.91      0.87      1443\n",
            "\n",
            "    accuracy                           0.87      2946\n",
            "   macro avg       0.87      0.87      0.87      2946\n",
            "weighted avg       0.87      0.87      0.87      2946\n",
            "\n"
          ]
        }
      ],
      "source": [
        "plt.subplots(figsize=(8,7))\n",
        "sns.heatmap(confusion_matrix(y_test[:,1], y_pred),annot=True, fmt=\"1.0f\",\n",
        "            cbar=False,annot_kws={\"size\": 20},cmap=plt.cm.Blues)\n",
        "plt.title(\"Matriz de Confusão\",fontsize=30)\n",
        "plt.xlabel(f\"0 = Negativo, 1 = Positivo\",fontsize=14)\n",
        "plt.show()\n",
        "\n",
        "print(classification_report(y_test[:,1], y_pred))"
      ]
    },
    {
      "cell_type": "markdown",
      "metadata": {},
      "source": [
        "Dos resultados vemos que temos uma precisão de 90% em classificar as resenhas negativas e uma precisão de 84% na classificação das positivas. Temos portanto um modelo que desempenha sua função muito bem."
      ]
    },
    {
      "cell_type": "markdown",
      "metadata": {
        "id": "Bw80PbO81YWU"
      },
      "source": [
        "## 7. Testando o Modelo e Fazendo uma Classificação"
      ]
    },
    {
      "cell_type": "markdown",
      "metadata": {},
      "source": [
        "Como teste final, podemos criar frases de exemplos de resenhas e verificar se o modelo consegue classificá-las corretamente em 'positivo' ou 'negativo'.\r\n",
        "\r\n",
        "Para isso temos que criar uma função que transforme a frase inserida em um token, exatamente como fizemos com as resenhas usadas como treino e teste."
      ]
    },
    {
      "cell_type": "code",
      "execution_count": 118,
      "metadata": {
        "id": "bbWGct5WnKQ3"
      },
      "outputs": [],
      "source": [
        "def sentimental(tx):\r\n",
        "  texto = [tx]\r\n",
        "  \r\n",
        "  texto = tokenizer.texts_to_sequences(texto)\r\n",
        "  texto = pad_sequences(texto, maxlen=30, dtype='int32')\r\n",
        "\r\n",
        "  sentiment = model.predict(texto,batch_size=1,verbose = 2)[0]\r\n",
        "  if(np.argmax(sentiment) == 0):\r\n",
        "      return \"Negativo\"\r\n",
        "  elif (np.argmax(sentiment) == 1):\r\n",
        "       return \"Positivo\"\r\n"
      ]
    },
    {
      "cell_type": "markdown",
      "metadata": {},
      "source": [
        "Podemos agora inserir duas frases de resenha e ver a saída do modelo."
      ]
    },
    {
      "cell_type": "code",
      "execution_count": 121,
      "metadata": {
        "colab": {
          "base_uri": "https://localhost:8080/",
          "height": 54
        },
        "id": "RD4_F_vunvVk",
        "outputId": "d677a3e4-3e6d-47b3-948e-d23b6ee5c157"
      },
      "outputs": [
        {
          "name": "stdout",
          "output_type": "stream",
          "text": [
            "1/1 - 0s\n"
          ]
        },
        {
          "data": {
            "application/vnd.google.colaboratory.intrinsic+json": {
              "type": "string"
            },
            "text/plain": [
              "'Negativo'"
            ]
          },
          "execution_count": 121,
          "metadata": {
            "tags": []
          },
          "output_type": "execute_result"
        }
      ],
      "source": [
        "frase1 = 'Uma grande decepção para o que foi apresentado como um filme incrível. Incrivelmente ruim.'\r\n",
        "\r\n",
        "sentimental(t)"
      ]
    },
    {
      "cell_type": "code",
      "execution_count": 120,
      "metadata": {
        "colab": {
          "base_uri": "https://localhost:8080/",
          "height": 54
        },
        "id": "vsCZ2teEnykG",
        "outputId": "d9fa0c70-4ce7-470c-e705-bb231af4073a"
      },
      "outputs": [
        {
          "name": "stdout",
          "output_type": "stream",
          "text": [
            "1/1 - 0s\n"
          ]
        },
        {
          "data": {
            "application/vnd.google.colaboratory.intrinsic+json": {
              "type": "string"
            },
            "text/plain": [
              "'Positivo'"
            ]
          },
          "execution_count": 120,
          "metadata": {
            "tags": []
          },
          "output_type": "execute_result"
        }
      ],
      "source": [
        "frase2 = 'Adorei o filme, vou assistir mais vezes'\r\n",
        "\r\n",
        "sentimental(p)"
      ]
    },
    {
      "cell_type": "markdown",
      "metadata": {},
      "source": [
        "## 8. Conclusão\r\n",
        "\r\n",
        "O objetivo foi realizado com sucesso. Conseguimos criar um modelo de rede neural usando LSTM que classifica as resenhas em português de filmes em positiva ou negativa."
      ]
    },
    {
      "cell_type": "code",
      "execution_count": null,
      "metadata": {},
      "outputs": [],
      "source": []
    }
  ],
  "metadata": {
    "accelerator": "GPU",
    "colab": {
      "collapsed_sections": [],
      "name": "Analise_Sentimentos_usando_LSTM .ipynb",
      "provenance": []
    },
    "kernelspec": {
      "display_name": "Python 3.7.6 64-bit ('base': conda)",
      "name": "python376jvsc74a57bd0611cf997d5a3904788d8bf9711afacc9acf0278f5ab751438d0be3f34b870c8a"
    },
    "language_info": {
      "name": "python",
      "version": ""
    }
  },
  "nbformat": 4,
  "nbformat_minor": 0
}